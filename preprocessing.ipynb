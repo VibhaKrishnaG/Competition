{
 "cells": [
  {
   "cell_type": "code",
   "execution_count": 1,
   "id": "29cf1e86",
   "metadata": {},
   "outputs": [],
   "source": [
    "import numpy as np\n",
    "import matplotlib.pyplot as plt\n",
    "import pandas as pd\n",
    "import seaborn as sns\n",
    "import math\n",
    "\n",
    "import warnings\n",
    "warnings.filterwarnings(\"ignore\")"
   ]
  },
  {
   "cell_type": "code",
   "execution_count": 2,
   "id": "18e06b3b",
   "metadata": {},
   "outputs": [],
   "source": [
    "df = pd.read_csv(\"gender-classifier-DFE-791531.csv\")"
   ]
  },
  {
   "cell_type": "code",
   "execution_count": 3,
   "id": "281cb5a1",
   "metadata": {},
   "outputs": [],
   "source": [
    "df1= df[['gender:confidence','text']]"
   ]
  },
  {
   "cell_type": "code",
   "execution_count": 4,
   "id": "0827a486",
   "metadata": {},
   "outputs": [
    {
     "data": {
      "text/html": [
       "<div>\n",
       "<style scoped>\n",
       "    .dataframe tbody tr th:only-of-type {\n",
       "        vertical-align: middle;\n",
       "    }\n",
       "\n",
       "    .dataframe tbody tr th {\n",
       "        vertical-align: top;\n",
       "    }\n",
       "\n",
       "    .dataframe thead th {\n",
       "        text-align: right;\n",
       "    }\n",
       "</style>\n",
       "<table border=\"1\" class=\"dataframe\">\n",
       "  <thead>\n",
       "    <tr style=\"text-align: right;\">\n",
       "      <th></th>\n",
       "      <th>gender:confidence</th>\n",
       "      <th>text</th>\n",
       "    </tr>\n",
       "  </thead>\n",
       "  <tbody>\n",
       "    <tr>\n",
       "      <th>0</th>\n",
       "      <td>1.0000</td>\n",
       "      <td>Robbie E Responds To Critics After Win Against...</td>\n",
       "    </tr>\n",
       "    <tr>\n",
       "      <th>1</th>\n",
       "      <td>1.0000</td>\n",
       "      <td>���It felt like they were my friends and I was...</td>\n",
       "    </tr>\n",
       "    <tr>\n",
       "      <th>2</th>\n",
       "      <td>0.6625</td>\n",
       "      <td>i absolutely adore when louis starts the songs...</td>\n",
       "    </tr>\n",
       "    <tr>\n",
       "      <th>3</th>\n",
       "      <td>1.0000</td>\n",
       "      <td>Hi @JordanSpieth - Looking at the url - do you...</td>\n",
       "    </tr>\n",
       "    <tr>\n",
       "      <th>4</th>\n",
       "      <td>1.0000</td>\n",
       "      <td>Watching Neighbours on Sky+ catching up with t...</td>\n",
       "    </tr>\n",
       "    <tr>\n",
       "      <th>...</th>\n",
       "      <td>...</td>\n",
       "      <td>...</td>\n",
       "    </tr>\n",
       "    <tr>\n",
       "      <th>20045</th>\n",
       "      <td>1.0000</td>\n",
       "      <td>@lookupondeath ...Fine, and I'll drink tea too...</td>\n",
       "    </tr>\n",
       "    <tr>\n",
       "      <th>20046</th>\n",
       "      <td>1.0000</td>\n",
       "      <td>Greg Hardy you a good player and all but don't...</td>\n",
       "    </tr>\n",
       "    <tr>\n",
       "      <th>20047</th>\n",
       "      <td>1.0000</td>\n",
       "      <td>You can miss people and still never want to se...</td>\n",
       "    </tr>\n",
       "    <tr>\n",
       "      <th>20048</th>\n",
       "      <td>0.8489</td>\n",
       "      <td>@bitemyapp i had noticed your tendency to pee ...</td>\n",
       "    </tr>\n",
       "    <tr>\n",
       "      <th>20049</th>\n",
       "      <td>1.0000</td>\n",
       "      <td>I think for my APUSH creative project I'm goin...</td>\n",
       "    </tr>\n",
       "  </tbody>\n",
       "</table>\n",
       "<p>20050 rows × 2 columns</p>\n",
       "</div>"
      ],
      "text/plain": [
       "       gender:confidence                                               text\n",
       "0                 1.0000  Robbie E Responds To Critics After Win Against...\n",
       "1                 1.0000  ���It felt like they were my friends and I was...\n",
       "2                 0.6625  i absolutely adore when louis starts the songs...\n",
       "3                 1.0000  Hi @JordanSpieth - Looking at the url - do you...\n",
       "4                 1.0000  Watching Neighbours on Sky+ catching up with t...\n",
       "...                  ...                                                ...\n",
       "20045             1.0000  @lookupondeath ...Fine, and I'll drink tea too...\n",
       "20046             1.0000  Greg Hardy you a good player and all but don't...\n",
       "20047             1.0000  You can miss people and still never want to se...\n",
       "20048             0.8489  @bitemyapp i had noticed your tendency to pee ...\n",
       "20049             1.0000  I think for my APUSH creative project I'm goin...\n",
       "\n",
       "[20050 rows x 2 columns]"
      ]
     },
     "execution_count": 4,
     "metadata": {},
     "output_type": "execute_result"
    }
   ],
   "source": [
    "df1"
   ]
  },
  {
   "cell_type": "code",
   "execution_count": 8,
   "id": "c10e2c13",
   "metadata": {},
   "outputs": [
    {
     "data": {
      "text/plain": [
       "0        Robbie E Responds To Critics After Win Against...\n",
       "1        ���It felt like they were my friends and I was...\n",
       "2        i absolutely adore when louis starts the songs...\n",
       "3        Hi @JordanSpieth - Looking at the url - do you...\n",
       "4        Watching Neighbours on Sky+ catching up with t...\n",
       "                               ...                        \n",
       "20045    @lookupondeath ...Fine, and I'll drink tea too...\n",
       "20046    Greg Hardy you a good player and all but don't...\n",
       "20047    You can miss people and still never want to se...\n",
       "20048    @bitemyapp i had noticed your tendency to pee ...\n",
       "20049    I think for my APUSH creative project I'm goin...\n",
       "Name: text, Length: 20050, dtype: object"
      ]
     },
     "execution_count": 8,
     "metadata": {},
     "output_type": "execute_result"
    }
   ],
   "source": [
    "df.text"
   ]
  },
  {
   "cell_type": "code",
   "execution_count": 9,
   "id": "de6cb2b8",
   "metadata": {},
   "outputs": [
    {
     "name": "stdout",
     "output_type": "stream",
     "text": [
      "<class 'pandas.core.frame.DataFrame'>\n",
      "RangeIndex: 20050 entries, 0 to 20049\n",
      "Data columns (total 2 columns):\n",
      " #   Column             Non-Null Count  Dtype  \n",
      "---  ------             --------------  -----  \n",
      " 0   gender:confidence  20024 non-null  float64\n",
      " 1   text               20050 non-null  object \n",
      "dtypes: float64(1), object(1)\n",
      "memory usage: 313.4+ KB\n"
     ]
    }
   ],
   "source": [
    "df1.info()"
   ]
  },
  {
   "cell_type": "code",
   "execution_count": 10,
   "id": "50730067",
   "metadata": {},
   "outputs": [],
   "source": [
    "#df2 = df1.dropna(axis = 0,inplace=true)\n",
    "df2 = df1.dropna(how='all')\n",
    "#df2=df1['gender:confidence'].fillna(df['gender:confidence'].mean(),inplace=True)"
   ]
  },
  {
   "cell_type": "code",
   "execution_count": 11,
   "id": "5683a72f",
   "metadata": {},
   "outputs": [
    {
     "data": {
      "text/plain": [
       "<bound method DataFrame.info of        gender:confidence                                               text\n",
       "0                 1.0000  Robbie E Responds To Critics After Win Against...\n",
       "1                 1.0000  ���It felt like they were my friends and I was...\n",
       "2                 0.6625  i absolutely adore when louis starts the songs...\n",
       "3                 1.0000  Hi @JordanSpieth - Looking at the url - do you...\n",
       "4                 1.0000  Watching Neighbours on Sky+ catching up with t...\n",
       "...                  ...                                                ...\n",
       "20045             1.0000  @lookupondeath ...Fine, and I'll drink tea too...\n",
       "20046             1.0000  Greg Hardy you a good player and all but don't...\n",
       "20047             1.0000  You can miss people and still never want to se...\n",
       "20048             0.8489  @bitemyapp i had noticed your tendency to pee ...\n",
       "20049             1.0000  I think for my APUSH creative project I'm goin...\n",
       "\n",
       "[20050 rows x 2 columns]>"
      ]
     },
     "execution_count": 11,
     "metadata": {},
     "output_type": "execute_result"
    }
   ],
   "source": [
    "df2.info"
   ]
  },
  {
   "cell_type": "code",
   "execution_count": 12,
   "id": "907a0219",
   "metadata": {},
   "outputs": [
    {
     "data": {
      "text/html": [
       "<div>\n",
       "<style scoped>\n",
       "    .dataframe tbody tr th:only-of-type {\n",
       "        vertical-align: middle;\n",
       "    }\n",
       "\n",
       "    .dataframe tbody tr th {\n",
       "        vertical-align: top;\n",
       "    }\n",
       "\n",
       "    .dataframe thead th {\n",
       "        text-align: right;\n",
       "    }\n",
       "</style>\n",
       "<table border=\"1\" class=\"dataframe\">\n",
       "  <thead>\n",
       "    <tr style=\"text-align: right;\">\n",
       "      <th></th>\n",
       "      <th>gender:confidence</th>\n",
       "      <th>text</th>\n",
       "    </tr>\n",
       "  </thead>\n",
       "  <tbody>\n",
       "    <tr>\n",
       "      <th>0</th>\n",
       "      <td>1.0000</td>\n",
       "      <td>Robbie E Responds To Critics After Win Against...</td>\n",
       "    </tr>\n",
       "    <tr>\n",
       "      <th>1</th>\n",
       "      <td>1.0000</td>\n",
       "      <td>���It felt like they were my friends and I was...</td>\n",
       "    </tr>\n",
       "    <tr>\n",
       "      <th>2</th>\n",
       "      <td>0.6625</td>\n",
       "      <td>i absolutely adore when louis starts the songs...</td>\n",
       "    </tr>\n",
       "    <tr>\n",
       "      <th>3</th>\n",
       "      <td>1.0000</td>\n",
       "      <td>Hi @JordanSpieth - Looking at the url - do you...</td>\n",
       "    </tr>\n",
       "    <tr>\n",
       "      <th>4</th>\n",
       "      <td>1.0000</td>\n",
       "      <td>Watching Neighbours on Sky+ catching up with t...</td>\n",
       "    </tr>\n",
       "  </tbody>\n",
       "</table>\n",
       "</div>"
      ],
      "text/plain": [
       "   gender:confidence                                               text\n",
       "0             1.0000  Robbie E Responds To Critics After Win Against...\n",
       "1             1.0000  ���It felt like they were my friends and I was...\n",
       "2             0.6625  i absolutely adore when louis starts the songs...\n",
       "3             1.0000  Hi @JordanSpieth - Looking at the url - do you...\n",
       "4             1.0000  Watching Neighbours on Sky+ catching up with t..."
      ]
     },
     "execution_count": 12,
     "metadata": {},
     "output_type": "execute_result"
    }
   ],
   "source": [
    "df1.head()"
   ]
  },
  {
   "cell_type": "code",
   "execution_count": 13,
   "id": "83316fa7",
   "metadata": {},
   "outputs": [],
   "source": [
    "import re\n",
    "import string"
   ]
  },
  {
   "cell_type": "code",
   "execution_count": 23,
   "id": "b628664b",
   "metadata": {},
   "outputs": [],
   "source": [
    "def remove_pattern(input_txt, pattern):\n",
    "    r = re.findall(pattern, input_txt)\n",
    "    for i in r:\n",
    "        input_txt=re.sub(word, \"\",input_txt)\n",
    "    return input_txt    \n",
    "    "
   ]
  },
  {
   "cell_type": "code",
   "execution_count": 25,
   "id": "5fa9ccfa",
   "metadata": {},
   "outputs": [
    {
     "name": "stdout",
     "output_type": "stream",
     "text": [
      "someword\n"
     ]
    }
   ],
   "source": [
    "word = 'someword'\n",
    "print(word)"
   ]
  },
  {
   "cell_type": "code",
   "execution_count": 26,
   "id": "dabccf27",
   "metadata": {},
   "outputs": [
    {
     "ename": "TypeError",
     "evalue": "sub() missing 2 required positional arguments: 'repl' and 'string'",
     "output_type": "error",
     "traceback": [
      "\u001b[1;31m---------------------------------------------------------------------------\u001b[0m",
      "\u001b[1;31mTypeError\u001b[0m                                 Traceback (most recent call last)",
      "\u001b[1;32m<ipython-input-26-24122175a265>\u001b[0m in \u001b[0;36m<module>\u001b[1;34m\u001b[0m\n\u001b[1;32m----> 1\u001b[1;33m \u001b[0mdf2\u001b[0m\u001b[1;33m[\u001b[0m\u001b[1;34m'clean_tweet'\u001b[0m\u001b[1;33m]\u001b[0m \u001b[1;33m=\u001b[0m \u001b[0mnp\u001b[0m\u001b[1;33m.\u001b[0m\u001b[0mvectorize\u001b[0m\u001b[1;33m(\u001b[0m\u001b[0mremove_pattern\u001b[0m\u001b[1;33m)\u001b[0m\u001b[1;33m(\u001b[0m\u001b[0mdf\u001b[0m\u001b[1;33m[\u001b[0m\u001b[1;34m'text'\u001b[0m\u001b[1;33m]\u001b[0m\u001b[1;33m,\u001b[0m\u001b[1;34m'[@\\w]*'\u001b[0m\u001b[1;33m)\u001b[0m\u001b[1;33m\u001b[0m\u001b[1;33m\u001b[0m\u001b[0m\n\u001b[0m",
      "\u001b[1;32m~\\anaconda3\\lib\\site-packages\\numpy\\lib\\function_base.py\u001b[0m in \u001b[0;36m__call__\u001b[1;34m(self, *args, **kwargs)\u001b[0m\n\u001b[0;32m   2111\u001b[0m             \u001b[0mvargs\u001b[0m\u001b[1;33m.\u001b[0m\u001b[0mextend\u001b[0m\u001b[1;33m(\u001b[0m\u001b[1;33m[\u001b[0m\u001b[0mkwargs\u001b[0m\u001b[1;33m[\u001b[0m\u001b[0m_n\u001b[0m\u001b[1;33m]\u001b[0m \u001b[1;32mfor\u001b[0m \u001b[0m_n\u001b[0m \u001b[1;32min\u001b[0m \u001b[0mnames\u001b[0m\u001b[1;33m]\u001b[0m\u001b[1;33m)\u001b[0m\u001b[1;33m\u001b[0m\u001b[1;33m\u001b[0m\u001b[0m\n\u001b[0;32m   2112\u001b[0m \u001b[1;33m\u001b[0m\u001b[0m\n\u001b[1;32m-> 2113\u001b[1;33m         \u001b[1;32mreturn\u001b[0m \u001b[0mself\u001b[0m\u001b[1;33m.\u001b[0m\u001b[0m_vectorize_call\u001b[0m\u001b[1;33m(\u001b[0m\u001b[0mfunc\u001b[0m\u001b[1;33m=\u001b[0m\u001b[0mfunc\u001b[0m\u001b[1;33m,\u001b[0m \u001b[0margs\u001b[0m\u001b[1;33m=\u001b[0m\u001b[0mvargs\u001b[0m\u001b[1;33m)\u001b[0m\u001b[1;33m\u001b[0m\u001b[1;33m\u001b[0m\u001b[0m\n\u001b[0m\u001b[0;32m   2114\u001b[0m \u001b[1;33m\u001b[0m\u001b[0m\n\u001b[0;32m   2115\u001b[0m     \u001b[1;32mdef\u001b[0m \u001b[0m_get_ufunc_and_otypes\u001b[0m\u001b[1;33m(\u001b[0m\u001b[0mself\u001b[0m\u001b[1;33m,\u001b[0m \u001b[0mfunc\u001b[0m\u001b[1;33m,\u001b[0m \u001b[0margs\u001b[0m\u001b[1;33m)\u001b[0m\u001b[1;33m:\u001b[0m\u001b[1;33m\u001b[0m\u001b[1;33m\u001b[0m\u001b[0m\n",
      "\u001b[1;32m~\\anaconda3\\lib\\site-packages\\numpy\\lib\\function_base.py\u001b[0m in \u001b[0;36m_vectorize_call\u001b[1;34m(self, func, args)\u001b[0m\n\u001b[0;32m   2189\u001b[0m             \u001b[0mres\u001b[0m \u001b[1;33m=\u001b[0m \u001b[0mfunc\u001b[0m\u001b[1;33m(\u001b[0m\u001b[1;33m)\u001b[0m\u001b[1;33m\u001b[0m\u001b[1;33m\u001b[0m\u001b[0m\n\u001b[0;32m   2190\u001b[0m         \u001b[1;32melse\u001b[0m\u001b[1;33m:\u001b[0m\u001b[1;33m\u001b[0m\u001b[1;33m\u001b[0m\u001b[0m\n\u001b[1;32m-> 2191\u001b[1;33m             \u001b[0mufunc\u001b[0m\u001b[1;33m,\u001b[0m \u001b[0motypes\u001b[0m \u001b[1;33m=\u001b[0m \u001b[0mself\u001b[0m\u001b[1;33m.\u001b[0m\u001b[0m_get_ufunc_and_otypes\u001b[0m\u001b[1;33m(\u001b[0m\u001b[0mfunc\u001b[0m\u001b[1;33m=\u001b[0m\u001b[0mfunc\u001b[0m\u001b[1;33m,\u001b[0m \u001b[0margs\u001b[0m\u001b[1;33m=\u001b[0m\u001b[0margs\u001b[0m\u001b[1;33m)\u001b[0m\u001b[1;33m\u001b[0m\u001b[1;33m\u001b[0m\u001b[0m\n\u001b[0m\u001b[0;32m   2192\u001b[0m \u001b[1;33m\u001b[0m\u001b[0m\n\u001b[0;32m   2193\u001b[0m             \u001b[1;31m# Convert args to object arrays first\u001b[0m\u001b[1;33m\u001b[0m\u001b[1;33m\u001b[0m\u001b[1;33m\u001b[0m\u001b[0m\n",
      "\u001b[1;32m~\\anaconda3\\lib\\site-packages\\numpy\\lib\\function_base.py\u001b[0m in \u001b[0;36m_get_ufunc_and_otypes\u001b[1;34m(self, func, args)\u001b[0m\n\u001b[0;32m   2149\u001b[0m \u001b[1;33m\u001b[0m\u001b[0m\n\u001b[0;32m   2150\u001b[0m             \u001b[0minputs\u001b[0m \u001b[1;33m=\u001b[0m \u001b[1;33m[\u001b[0m\u001b[0marg\u001b[0m\u001b[1;33m.\u001b[0m\u001b[0mflat\u001b[0m\u001b[1;33m[\u001b[0m\u001b[1;36m0\u001b[0m\u001b[1;33m]\u001b[0m \u001b[1;32mfor\u001b[0m \u001b[0marg\u001b[0m \u001b[1;32min\u001b[0m \u001b[0margs\u001b[0m\u001b[1;33m]\u001b[0m\u001b[1;33m\u001b[0m\u001b[1;33m\u001b[0m\u001b[0m\n\u001b[1;32m-> 2151\u001b[1;33m             \u001b[0moutputs\u001b[0m \u001b[1;33m=\u001b[0m \u001b[0mfunc\u001b[0m\u001b[1;33m(\u001b[0m\u001b[1;33m*\u001b[0m\u001b[0minputs\u001b[0m\u001b[1;33m)\u001b[0m\u001b[1;33m\u001b[0m\u001b[1;33m\u001b[0m\u001b[0m\n\u001b[0m\u001b[0;32m   2152\u001b[0m \u001b[1;33m\u001b[0m\u001b[0m\n\u001b[0;32m   2153\u001b[0m             \u001b[1;31m# Performance note: profiling indicates that -- for simple\u001b[0m\u001b[1;33m\u001b[0m\u001b[1;33m\u001b[0m\u001b[1;33m\u001b[0m\u001b[0m\n",
      "\u001b[1;32m<ipython-input-23-64839aadc0f2>\u001b[0m in \u001b[0;36mremove_pattern\u001b[1;34m(input_txt, pattern)\u001b[0m\n\u001b[0;32m      2\u001b[0m     \u001b[0mr\u001b[0m \u001b[1;33m=\u001b[0m \u001b[0mre\u001b[0m\u001b[1;33m.\u001b[0m\u001b[0mfindall\u001b[0m\u001b[1;33m(\u001b[0m\u001b[0mpattern\u001b[0m\u001b[1;33m,\u001b[0m \u001b[0minput_txt\u001b[0m\u001b[1;33m)\u001b[0m\u001b[1;33m\u001b[0m\u001b[1;33m\u001b[0m\u001b[0m\n\u001b[0;32m      3\u001b[0m     \u001b[1;32mfor\u001b[0m \u001b[0mi\u001b[0m \u001b[1;32min\u001b[0m \u001b[0mr\u001b[0m\u001b[1;33m:\u001b[0m\u001b[1;33m\u001b[0m\u001b[1;33m\u001b[0m\u001b[0m\n\u001b[1;32m----> 4\u001b[1;33m         \u001b[0minput_txt\u001b[0m\u001b[1;33m=\u001b[0m\u001b[0mre\u001b[0m\u001b[1;33m.\u001b[0m\u001b[0msub\u001b[0m\u001b[1;33m(\u001b[0m\u001b[0mi\u001b[0m\u001b[1;33m)\u001b[0m\u001b[1;33m\u001b[0m\u001b[1;33m\u001b[0m\u001b[0m\n\u001b[0m\u001b[0;32m      5\u001b[0m     \u001b[1;32mreturn\u001b[0m \u001b[0minput_txt\u001b[0m\u001b[1;33m\u001b[0m\u001b[1;33m\u001b[0m\u001b[0m\n\u001b[0;32m      6\u001b[0m \u001b[1;33m\u001b[0m\u001b[0m\n",
      "\u001b[1;31mTypeError\u001b[0m: sub() missing 2 required positional arguments: 'repl' and 'string'"
     ]
    }
   ],
   "source": [
    "df2['clean_tweet'] = np.vectorize(remove_pattern)(df['text'],'[@\\w]*')"
   ]
  },
  {
   "cell_type": "code",
   "execution_count": 17,
   "id": "e0e03c98",
   "metadata": {},
   "outputs": [
    {
     "data": {
      "text/html": [
       "<div>\n",
       "<style scoped>\n",
       "    .dataframe tbody tr th:only-of-type {\n",
       "        vertical-align: middle;\n",
       "    }\n",
       "\n",
       "    .dataframe tbody tr th {\n",
       "        vertical-align: top;\n",
       "    }\n",
       "\n",
       "    .dataframe thead th {\n",
       "        text-align: right;\n",
       "    }\n",
       "</style>\n",
       "<table border=\"1\" class=\"dataframe\">\n",
       "  <thead>\n",
       "    <tr style=\"text-align: right;\">\n",
       "      <th></th>\n",
       "      <th>gender:confidence</th>\n",
       "      <th>text</th>\n",
       "      <th>clean_tweet</th>\n",
       "    </tr>\n",
       "  </thead>\n",
       "  <tbody>\n",
       "    <tr>\n",
       "      <th>0</th>\n",
       "      <td>1.0000</td>\n",
       "      <td>Robbie E Responds To Critics After Win Against...</td>\n",
       "      <td>Robbie E Responds To Critics After Win Against...</td>\n",
       "    </tr>\n",
       "    <tr>\n",
       "      <th>1</th>\n",
       "      <td>1.0000</td>\n",
       "      <td>���It felt like they were my friends and I was...</td>\n",
       "      <td>���It felt like they were my friends and I was...</td>\n",
       "    </tr>\n",
       "    <tr>\n",
       "      <th>2</th>\n",
       "      <td>0.6625</td>\n",
       "      <td>i absolutely adore when louis starts the songs...</td>\n",
       "      <td>i absolutely adore when louis starts the songs...</td>\n",
       "    </tr>\n",
       "    <tr>\n",
       "      <th>3</th>\n",
       "      <td>1.0000</td>\n",
       "      <td>Hi @JordanSpieth - Looking at the url - do you...</td>\n",
       "      <td>Hi @JordanSpieth - Looking at the url - do you...</td>\n",
       "    </tr>\n",
       "    <tr>\n",
       "      <th>4</th>\n",
       "      <td>1.0000</td>\n",
       "      <td>Watching Neighbours on Sky+ catching up with t...</td>\n",
       "      <td>Watching Neighbours on Sky+ catching up with t...</td>\n",
       "    </tr>\n",
       "    <tr>\n",
       "      <th>5</th>\n",
       "      <td>1.0000</td>\n",
       "      <td>Ive seen people on the train with lamps, chair...</td>\n",
       "      <td>Ive seen people on the train with lamps, chair...</td>\n",
       "    </tr>\n",
       "    <tr>\n",
       "      <th>6</th>\n",
       "      <td>1.0000</td>\n",
       "      <td>@BpackEngineer Thank you for your patience whi...</td>\n",
       "      <td>@BpackEngineer Thank you for your patience whi...</td>\n",
       "    </tr>\n",
       "    <tr>\n",
       "      <th>7</th>\n",
       "      <td>1.0000</td>\n",
       "      <td>Gala Bingo clubs bought for �241m: The UK's la...</td>\n",
       "      <td>Gala Bingo clubs bought for �241m: The UK's la...</td>\n",
       "    </tr>\n",
       "    <tr>\n",
       "      <th>8</th>\n",
       "      <td>1.0000</td>\n",
       "      <td>@_Aphmau_ the pic defines all mcd fangirls/fan...</td>\n",
       "      <td>@_Aphmau_ the pic defines all mcd fangirls/fan...</td>\n",
       "    </tr>\n",
       "    <tr>\n",
       "      <th>9</th>\n",
       "      <td>1.0000</td>\n",
       "      <td>@Evielady just how lovely is the tree this yea...</td>\n",
       "      <td>@Evielady just how lovely is the tree this yea...</td>\n",
       "    </tr>\n",
       "    <tr>\n",
       "      <th>10</th>\n",
       "      <td>0.7002</td>\n",
       "      <td>how are you taking care of yourself? https://t...</td>\n",
       "      <td>how are you taking care of yourself? https://t...</td>\n",
       "    </tr>\n",
       "    <tr>\n",
       "      <th>11</th>\n",
       "      <td>1.0000</td>\n",
       "      <td>MTG Deals 1x Rank-Up-Magic - The Seventh One -...</td>\n",
       "      <td>MTG Deals 1x Rank-Up-Magic - The Seventh One -...</td>\n",
       "    </tr>\n",
       "    <tr>\n",
       "      <th>12</th>\n",
       "      <td>0.6509</td>\n",
       "      <td>Just put my ass on the line for you and this i...</td>\n",
       "      <td>Just put my ass on the line for you and this i...</td>\n",
       "    </tr>\n",
       "    <tr>\n",
       "      <th>13</th>\n",
       "      <td>1.0000</td>\n",
       "      <td>https://t.co/z4sbWUugd8 What the Nation Will B...</td>\n",
       "      <td>https://t.co/z4sbWUugd8 What the Nation Will B...</td>\n",
       "    </tr>\n",
       "    <tr>\n",
       "      <th>14</th>\n",
       "      <td>0.6501</td>\n",
       "      <td>will i even need sound effects for the diviner...</td>\n",
       "      <td>will i even need sound effects for the diviner...</td>\n",
       "    </tr>\n",
       "    <tr>\n",
       "      <th>15</th>\n",
       "      <td>1.0000</td>\n",
       "      <td>https://t.co/EROGWTFTYo It's a glow of satisfa...</td>\n",
       "      <td>https://t.co/EROGWTFTYo It's a glow of satisfa...</td>\n",
       "    </tr>\n",
       "    <tr>\n",
       "      <th>16</th>\n",
       "      <td>1.0000</td>\n",
       "      <td>@giannaaa28 lmao _���_��� dude I'm hella scare...</td>\n",
       "      <td>@giannaaa28 lmao _���_��� dude I'm hella scare...</td>\n",
       "    </tr>\n",
       "    <tr>\n",
       "      <th>17</th>\n",
       "      <td>1.0000</td>\n",
       "      <td>@coolyazzy94 Ditto - I'm still learning the fa...</td>\n",
       "      <td>@coolyazzy94 Ditto - I'm still learning the fa...</td>\n",
       "    </tr>\n",
       "    <tr>\n",
       "      <th>18</th>\n",
       "      <td>1.0000</td>\n",
       "      <td>@CaribBros @JstSaleem I do but I don't underst...</td>\n",
       "      <td>@CaribBros @JstSaleem I do but I don't underst...</td>\n",
       "    </tr>\n",
       "    <tr>\n",
       "      <th>19</th>\n",
       "      <td>0.3527</td>\n",
       "      <td>Me too, saw five lionesses drinking around the...</td>\n",
       "      <td>Me too, saw five lionesses drinking around the...</td>\n",
       "    </tr>\n",
       "  </tbody>\n",
       "</table>\n",
       "</div>"
      ],
      "text/plain": [
       "    gender:confidence                                               text  \\\n",
       "0              1.0000  Robbie E Responds To Critics After Win Against...   \n",
       "1              1.0000  ���It felt like they were my friends and I was...   \n",
       "2              0.6625  i absolutely adore when louis starts the songs...   \n",
       "3              1.0000  Hi @JordanSpieth - Looking at the url - do you...   \n",
       "4              1.0000  Watching Neighbours on Sky+ catching up with t...   \n",
       "5              1.0000  Ive seen people on the train with lamps, chair...   \n",
       "6              1.0000  @BpackEngineer Thank you for your patience whi...   \n",
       "7              1.0000  Gala Bingo clubs bought for �241m: The UK's la...   \n",
       "8              1.0000  @_Aphmau_ the pic defines all mcd fangirls/fan...   \n",
       "9              1.0000  @Evielady just how lovely is the tree this yea...   \n",
       "10             0.7002  how are you taking care of yourself? https://t...   \n",
       "11             1.0000  MTG Deals 1x Rank-Up-Magic - The Seventh One -...   \n",
       "12             0.6509  Just put my ass on the line for you and this i...   \n",
       "13             1.0000  https://t.co/z4sbWUugd8 What the Nation Will B...   \n",
       "14             0.6501  will i even need sound effects for the diviner...   \n",
       "15             1.0000  https://t.co/EROGWTFTYo It's a glow of satisfa...   \n",
       "16             1.0000  @giannaaa28 lmao _���_��� dude I'm hella scare...   \n",
       "17             1.0000  @coolyazzy94 Ditto - I'm still learning the fa...   \n",
       "18             1.0000  @CaribBros @JstSaleem I do but I don't underst...   \n",
       "19             0.3527  Me too, saw five lionesses drinking around the...   \n",
       "\n",
       "                                          clean_tweet  \n",
       "0   Robbie E Responds To Critics After Win Against...  \n",
       "1   ���It felt like they were my friends and I was...  \n",
       "2   i absolutely adore when louis starts the songs...  \n",
       "3   Hi @JordanSpieth - Looking at the url - do you...  \n",
       "4   Watching Neighbours on Sky+ catching up with t...  \n",
       "5   Ive seen people on the train with lamps, chair...  \n",
       "6   @BpackEngineer Thank you for your patience whi...  \n",
       "7   Gala Bingo clubs bought for �241m: The UK's la...  \n",
       "8   @_Aphmau_ the pic defines all mcd fangirls/fan...  \n",
       "9   @Evielady just how lovely is the tree this yea...  \n",
       "10  how are you taking care of yourself? https://t...  \n",
       "11  MTG Deals 1x Rank-Up-Magic - The Seventh One -...  \n",
       "12  Just put my ass on the line for you and this i...  \n",
       "13  https://t.co/z4sbWUugd8 What the Nation Will B...  \n",
       "14  will i even need sound effects for the diviner...  \n",
       "15  https://t.co/EROGWTFTYo It's a glow of satisfa...  \n",
       "16  @giannaaa28 lmao _���_��� dude I'm hella scare...  \n",
       "17  @coolyazzy94 Ditto - I'm still learning the fa...  \n",
       "18  @CaribBros @JstSaleem I do but I don't underst...  \n",
       "19  Me too, saw five lionesses drinking around the...  "
      ]
     },
     "execution_count": 17,
     "metadata": {},
     "output_type": "execute_result"
    }
   ],
   "source": [
    "df2.head(20)"
   ]
  },
  {
   "cell_type": "code",
   "execution_count": 28,
   "id": "abc8a341",
   "metadata": {},
   "outputs": [
    {
     "data": {
      "text/html": [
       "<div>\n",
       "<style scoped>\n",
       "    .dataframe tbody tr th:only-of-type {\n",
       "        vertical-align: middle;\n",
       "    }\n",
       "\n",
       "    .dataframe tbody tr th {\n",
       "        vertical-align: top;\n",
       "    }\n",
       "\n",
       "    .dataframe thead th {\n",
       "        text-align: right;\n",
       "    }\n",
       "</style>\n",
       "<table border=\"1\" class=\"dataframe\">\n",
       "  <thead>\n",
       "    <tr style=\"text-align: right;\">\n",
       "      <th></th>\n",
       "      <th>gender:confidence</th>\n",
       "      <th>text</th>\n",
       "      <th>clean_tweet</th>\n",
       "    </tr>\n",
       "  </thead>\n",
       "  <tbody>\n",
       "    <tr>\n",
       "      <th>0</th>\n",
       "      <td>1.0000</td>\n",
       "      <td>Robbie E Responds To Critics After Win Against...</td>\n",
       "      <td>Robbie E Responds To Critics After Win Against...</td>\n",
       "    </tr>\n",
       "    <tr>\n",
       "      <th>1</th>\n",
       "      <td>1.0000</td>\n",
       "      <td>���It felt like they were my friends and I was...</td>\n",
       "      <td>It felt like they were my friends and I was...</td>\n",
       "    </tr>\n",
       "    <tr>\n",
       "      <th>2</th>\n",
       "      <td>0.6625</td>\n",
       "      <td>i absolutely adore when louis starts the songs...</td>\n",
       "      <td>i absolutely adore when louis starts the songs...</td>\n",
       "    </tr>\n",
       "    <tr>\n",
       "      <th>3</th>\n",
       "      <td>1.0000</td>\n",
       "      <td>Hi @JordanSpieth - Looking at the url - do you...</td>\n",
       "      <td>Hi  JordanSpieth   Looking at the url   do you...</td>\n",
       "    </tr>\n",
       "    <tr>\n",
       "      <th>4</th>\n",
       "      <td>1.0000</td>\n",
       "      <td>Watching Neighbours on Sky+ catching up with t...</td>\n",
       "      <td>Watching Neighbours on Sky  catching up with t...</td>\n",
       "    </tr>\n",
       "  </tbody>\n",
       "</table>\n",
       "</div>"
      ],
      "text/plain": [
       "   gender:confidence                                               text  \\\n",
       "0             1.0000  Robbie E Responds To Critics After Win Against...   \n",
       "1             1.0000  ���It felt like they were my friends and I was...   \n",
       "2             0.6625  i absolutely adore when louis starts the songs...   \n",
       "3             1.0000  Hi @JordanSpieth - Looking at the url - do you...   \n",
       "4             1.0000  Watching Neighbours on Sky+ catching up with t...   \n",
       "\n",
       "                                         clean_tweet  \n",
       "0  Robbie E Responds To Critics After Win Against...  \n",
       "1     It felt like they were my friends and I was...  \n",
       "2  i absolutely adore when louis starts the songs...  \n",
       "3  Hi  JordanSpieth   Looking at the url   do you...  \n",
       "4  Watching Neighbours on Sky  catching up with t...  "
      ]
     },
     "execution_count": 28,
     "metadata": {},
     "output_type": "execute_result"
    }
   ],
   "source": [
    "df2['clean_tweet'] = df2['clean_tweet'].str.replace(\"[^a-zA-Z#]\", \" \")\n",
    "df2.head()"
   ]
  },
  {
   "cell_type": "code",
   "execution_count": 29,
   "id": "0cd3f879",
   "metadata": {},
   "outputs": [
    {
     "data": {
      "text/html": [
       "<div>\n",
       "<style scoped>\n",
       "    .dataframe tbody tr th:only-of-type {\n",
       "        vertical-align: middle;\n",
       "    }\n",
       "\n",
       "    .dataframe tbody tr th {\n",
       "        vertical-align: top;\n",
       "    }\n",
       "\n",
       "    .dataframe thead th {\n",
       "        text-align: right;\n",
       "    }\n",
       "</style>\n",
       "<table border=\"1\" class=\"dataframe\">\n",
       "  <thead>\n",
       "    <tr style=\"text-align: right;\">\n",
       "      <th></th>\n",
       "      <th>gender:confidence</th>\n",
       "      <th>text</th>\n",
       "      <th>clean_tweet</th>\n",
       "    </tr>\n",
       "  </thead>\n",
       "  <tbody>\n",
       "    <tr>\n",
       "      <th>0</th>\n",
       "      <td>1.0000</td>\n",
       "      <td>Robbie E Responds To Critics After Win Against...</td>\n",
       "      <td>Robbie Responds Critics After Against Eddie Ed...</td>\n",
       "    </tr>\n",
       "    <tr>\n",
       "      <th>1</th>\n",
       "      <td>1.0000</td>\n",
       "      <td>���It felt like they were my friends and I was...</td>\n",
       "      <td>felt like they were friends living story with ...</td>\n",
       "    </tr>\n",
       "    <tr>\n",
       "      <th>2</th>\n",
       "      <td>0.6625</td>\n",
       "      <td>i absolutely adore when louis starts the songs...</td>\n",
       "      <td>absolutely adore when louis starts songs hits ...</td>\n",
       "    </tr>\n",
       "    <tr>\n",
       "      <th>3</th>\n",
       "      <td>1.0000</td>\n",
       "      <td>Hi @JordanSpieth - Looking at the url - do you...</td>\n",
       "      <td>JordanSpieth Looking IFTTT typically advanced ...</td>\n",
       "    </tr>\n",
       "    <tr>\n",
       "      <th>4</th>\n",
       "      <td>1.0000</td>\n",
       "      <td>Watching Neighbours on Sky+ catching up with t...</td>\n",
       "      <td>Watching Neighbours catching with Neighbs</td>\n",
       "    </tr>\n",
       "  </tbody>\n",
       "</table>\n",
       "</div>"
      ],
      "text/plain": [
       "   gender:confidence                                               text  \\\n",
       "0             1.0000  Robbie E Responds To Critics After Win Against...   \n",
       "1             1.0000  ���It felt like they were my friends and I was...   \n",
       "2             0.6625  i absolutely adore when louis starts the songs...   \n",
       "3             1.0000  Hi @JordanSpieth - Looking at the url - do you...   \n",
       "4             1.0000  Watching Neighbours on Sky+ catching up with t...   \n",
       "\n",
       "                                         clean_tweet  \n",
       "0  Robbie Responds Critics After Against Eddie Ed...  \n",
       "1  felt like they were friends living story with ...  \n",
       "2  absolutely adore when louis starts songs hits ...  \n",
       "3  JordanSpieth Looking IFTTT typically advanced ...  \n",
       "4          Watching Neighbours catching with Neighbs  "
      ]
     },
     "execution_count": 29,
     "metadata": {},
     "output_type": "execute_result"
    }
   ],
   "source": [
    "# remove short words\n",
    "df2['clean_tweet'] = df2['clean_tweet'].apply(lambda x: \" \".join([w for w in x.split() if len(w)>3]))\n",
    "df2.head()"
   ]
  },
  {
   "cell_type": "code",
   "execution_count": 31,
   "id": "fbd7d11f",
   "metadata": {},
   "outputs": [
    {
     "data": {
      "text/plain": [
       "0    [Robbie, Responds, Critics, After, Against, Ed...\n",
       "1    [felt, like, they, were, friends, living, stor...\n",
       "2    [absolutely, adore, when, louis, starts, songs...\n",
       "3    [JordanSpieth, Looking, IFTTT, typically, adva...\n",
       "4      [Watching, Neighbours, catching, with, Neighbs]\n",
       "Name: clean_tweet, dtype: object"
      ]
     },
     "execution_count": 31,
     "metadata": {},
     "output_type": "execute_result"
    }
   ],
   "source": [
    "# individual words considered as tokens\n",
    "tokenized_tweet = df2['clean_tweet'].apply(lambda x: x.split())\n",
    "tokenized_tweet.head()"
   ]
  },
  {
   "cell_type": "code",
   "execution_count": 32,
   "id": "601eb265",
   "metadata": {},
   "outputs": [
    {
     "data": {
      "text/plain": [
       "0    [robbi, respond, critic, after, against, eddi,...\n",
       "1    [felt, like, they, were, friend, live, stori, ...\n",
       "2    [absolut, ador, when, loui, start, song, hit, ...\n",
       "3    [jordanspieth, look, ifttt, typic, advanc, use...\n",
       "4              [watch, neighbour, catch, with, neighb]\n",
       "Name: clean_tweet, dtype: object"
      ]
     },
     "execution_count": 32,
     "metadata": {},
     "output_type": "execute_result"
    }
   ],
   "source": [
    "# stem the words\n",
    "from nltk.stem.porter import PorterStemmer\n",
    "stemmer = PorterStemmer()\n",
    "\n",
    "tokenized_tweet = tokenized_tweet.apply(lambda sentence: [stemmer.stem(word) for word in sentence])\n",
    "tokenized_tweet.head()"
   ]
  },
  {
   "cell_type": "code",
   "execution_count": 34,
   "id": "ecd58479",
   "metadata": {},
   "outputs": [
    {
     "data": {
      "text/html": [
       "<div>\n",
       "<style scoped>\n",
       "    .dataframe tbody tr th:only-of-type {\n",
       "        vertical-align: middle;\n",
       "    }\n",
       "\n",
       "    .dataframe tbody tr th {\n",
       "        vertical-align: top;\n",
       "    }\n",
       "\n",
       "    .dataframe thead th {\n",
       "        text-align: right;\n",
       "    }\n",
       "</style>\n",
       "<table border=\"1\" class=\"dataframe\">\n",
       "  <thead>\n",
       "    <tr style=\"text-align: right;\">\n",
       "      <th></th>\n",
       "      <th>gender:confidence</th>\n",
       "      <th>text</th>\n",
       "      <th>clean_tweet</th>\n",
       "    </tr>\n",
       "  </thead>\n",
       "  <tbody>\n",
       "    <tr>\n",
       "      <th>0</th>\n",
       "      <td>1.0000</td>\n",
       "      <td>Robbie E Responds To Critics After Win Against...</td>\n",
       "      <td>r o b b i   r e s p o n d   c r i t i c   a f ...</td>\n",
       "    </tr>\n",
       "    <tr>\n",
       "      <th>1</th>\n",
       "      <td>1.0000</td>\n",
       "      <td>���It felt like they were my friends and I was...</td>\n",
       "      <td>f e l t   l i k e   t h e y   w e r e   f r i ...</td>\n",
       "    </tr>\n",
       "    <tr>\n",
       "      <th>2</th>\n",
       "      <td>0.6625</td>\n",
       "      <td>i absolutely adore when louis starts the songs...</td>\n",
       "      <td>a b s o l u t   a d o r   w h e n   l o u i   ...</td>\n",
       "    </tr>\n",
       "    <tr>\n",
       "      <th>3</th>\n",
       "      <td>1.0000</td>\n",
       "      <td>Hi @JordanSpieth - Looking at the url - do you...</td>\n",
       "      <td>j o r d a n s p i e t h   l o o k   i f t t t ...</td>\n",
       "    </tr>\n",
       "    <tr>\n",
       "      <th>4</th>\n",
       "      <td>1.0000</td>\n",
       "      <td>Watching Neighbours on Sky+ catching up with t...</td>\n",
       "      <td>w a t c h   n e i g h b o u r   c a t c h   w ...</td>\n",
       "    </tr>\n",
       "  </tbody>\n",
       "</table>\n",
       "</div>"
      ],
      "text/plain": [
       "   gender:confidence                                               text  \\\n",
       "0             1.0000  Robbie E Responds To Critics After Win Against...   \n",
       "1             1.0000  ���It felt like they were my friends and I was...   \n",
       "2             0.6625  i absolutely adore when louis starts the songs...   \n",
       "3             1.0000  Hi @JordanSpieth - Looking at the url - do you...   \n",
       "4             1.0000  Watching Neighbours on Sky+ catching up with t...   \n",
       "\n",
       "                                         clean_tweet  \n",
       "0  r o b b i   r e s p o n d   c r i t i c   a f ...  \n",
       "1  f e l t   l i k e   t h e y   w e r e   f r i ...  \n",
       "2  a b s o l u t   a d o r   w h e n   l o u i   ...  \n",
       "3  j o r d a n s p i e t h   l o o k   i f t t t ...  \n",
       "4  w a t c h   n e i g h b o u r   c a t c h   w ...  "
      ]
     },
     "execution_count": 34,
     "metadata": {},
     "output_type": "execute_result"
    }
   ],
   "source": [
    "# combine words into single sentence\n",
    "for i in range(len(tokenized_tweet)):\n",
    "    tokenized_tweet[i] = \" \".join(tokenized_tweet[i])\n",
    "    \n",
    "df2['clean_tweet'] = tokenized_tweet\n",
    "df2.head()"
   ]
  },
  {
   "cell_type": "code",
   "execution_count": null,
   "id": "7a3f6450",
   "metadata": {},
   "outputs": [],
   "source": []
  }
 ],
 "metadata": {
  "kernelspec": {
   "display_name": "Python 3",
   "language": "python",
   "name": "python3"
  },
  "language_info": {
   "codemirror_mode": {
    "name": "ipython",
    "version": 3
   },
   "file_extension": ".py",
   "mimetype": "text/x-python",
   "name": "python",
   "nbconvert_exporter": "python",
   "pygments_lexer": "ipython3",
   "version": "3.8.8"
  }
 },
 "nbformat": 4,
 "nbformat_minor": 5
}
